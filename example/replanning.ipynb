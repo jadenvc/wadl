{
 "cells": [
  {
   "cell_type": "code",
   "execution_count": null,
   "id": "a96d7fe9-c9d4-47c3-a9f8-ca2aa346e2e1",
   "metadata": {},
   "outputs": [],
   "source": [
    "from wadl.survey import Survey\n",
    "from wadl.mission import Mission\n",
    "# parameters\n",
    "from wadl.solver.solver import SolverParameters\n",
    "from wadl.lib.route import RouteParameters\n",
    "from wadl.mission import MissionParameters"
   ]
  },
  {
   "cell_type": "raw",
   "id": "35f95049-4a32-4aa0-aba1-c1f2b1e8fa1a",
   "metadata": {},
   "source": [
    "Import your file"
   ]
  },
  {
   "cell_type": "code",
   "execution_count": null,
   "id": "46c610c6-a098-4c3d-b61a-d92907210f3c",
   "metadata": {},
   "outputs": [],
   "source": [
    "file = \"/Users/jaden/Documents/coverage_planning_2021/practice/data/stanford.csv\""
   ]
  },
  {
   "cell_type": "markdown",
   "id": "0ac2a370-db8d-44f0-a711-5971ce7eff85",
   "metadata": {},
   "source": [
    "Initialize survey and set up route/solver parameters"
   ]
  },
  {
   "cell_type": "code",
   "execution_count": null,
   "id": "fe2d9986-0a99-44c0-bd76-6c0f0a54f37d",
   "metadata": {},
   "outputs": [],
   "source": [
    "name = 'stanford'\n",
    "survey = Survey(name)\n",
    "\n",
    "# add the keypoints\n",
    "keyPoints = {\"oval\": (37.4298541, -122.1694745),\n",
    "             \"MSL\":  (37.4266113, -122.173492)\n",
    "             }\n",
    "survey.setKeyPoints(keyPoints)\n",
    "\n",
    "# route paramters\n",
    "routeParams = RouteParameters()\n",
    "routeParams[\"limit\"] = 30*60,  # s\n",
    "routeParams[\"speed\"] = 7  # m/s\n",
    "routeParams[\"altitude\"] = 50.0  # m\n",
    "# add the tasks\n",
    "\n",
    "survey.addTask(file,\n",
    "               step=100,\n",
    "               home=[\"oval\", \"MSL\"],\n",
    "               routeParameters=routeParams,\n",
    "               )\n",
    "\n",
    "# solver parameters\n",
    "solverParams = SolverParameters()\n",
    "solverParams[\"subGraph_size\"] = 20\n",
    "solverParams[\"SATBound_offset\"] = 4\n",
    "solverParams[\"timeout\"] = 30\n",
    "solverParams[\"stitch\"] = \"tree\"\n",
    "\n",
    "# set the solver parameters\n",
    "survey.setSolverParamters(solverParams)"
   ]
  },
  {
   "cell_type": "markdown",
   "id": "2d38aada-b2ba-4a34-9986-2c16b0175ebf",
   "metadata": {},
   "source": [
    "Plan the survey"
   ]
  },
  {
   "cell_type": "code",
   "execution_count": null,
   "id": "52a0c2c4-2f36-4b02-b113-5df2c16bf3f5",
   "metadata": {},
   "outputs": [],
   "source": [
    "survey.plan()"
   ]
  },
  {
   "cell_type": "markdown",
   "id": "51646ca4-d069-4ac4-b8a1-b2c04320816d",
   "metadata": {},
   "source": [
    "Set up list of uncompleted routes (map route number to route point not completed)"
   ]
  },
  {
   "cell_type": "code",
   "execution_count": null,
   "id": "23705aad-2d88-4488-8cb8-dc6596087c97",
   "metadata": {},
   "outputs": [],
   "source": [
    "uncompleted=dict()\n",
    "uncompleted[1]=5\n",
    "uncompleted[4]=21\n",
    "uncompleted[7]=8\n",
    "uncompleted[5]=12"
   ]
  },
  {
   "cell_type": "markdown",
   "id": "fb748642-3fad-4921-94fc-d5133e036895",
   "metadata": {},
   "source": [
    "Replan routes"
   ]
  },
  {
   "cell_type": "code",
   "execution_count": null,
   "id": "f087ffe0-ca68-4875-94f2-e00e65ae7871",
   "metadata": {},
   "outputs": [],
   "source": [
    "survey.uncomplete(uncompleted)\n",
    "survey.recompleteBFS()"
   ]
  }
 ],
 "metadata": {
  "kernelspec": {
   "display_name": "Python 3",
   "language": "python",
   "name": "python3"
  },
  "language_info": {
   "codemirror_mode": {
    "name": "ipython",
    "version": 3
   },
   "file_extension": ".py",
   "mimetype": "text/x-python",
   "name": "python",
   "nbconvert_exporter": "python",
   "pygments_lexer": "ipython3",
   "version": "3.8.8"
  }
 },
 "nbformat": 4,
 "nbformat_minor": 5
}
